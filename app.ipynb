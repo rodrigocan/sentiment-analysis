{
 "cells": [
  {
   "cell_type": "markdown",
   "metadata": {},
   "source": [
    "# Imports"
   ]
  },
  {
   "cell_type": "code",
   "execution_count": 59,
   "metadata": {},
   "outputs": [],
   "source": [
    "import re\n",
    "import matplotlib.pyplot as plt\n",
    "import string\n",
    "from nltk.corpus import stopwords\n",
    "import nltk\n",
    "from nltk.corpus import wordnet\n",
    "from nltk.stem import WordNetLemmatizer\n",
    "from nltk.tokenize.treebank import TreebankWordDetokenizer\n",
    "from collections import Counter\n",
    "from wordcloud import WordCloud\n",
    "from nltk.corpus import stopwords\n",
    "import nltk\n",
    "from gensim.utils import simple_preprocess\n",
    "from nltk.corpus import stopwords\n",
    "import gensim\n",
    "from sklearn.model_selection import train_test_split\n",
    "import spacy\n",
    "import pickle\n",
    "import warnings\n",
    "warnings.filterwarnings('ignore')\n",
    "import seaborn as sns\n",
    "from sklearn.metrics import confusion_matrix\n",
    "import matplotlib.pyplot as plt \n",
    "import tensorflow as tf\n",
    "import keras\n",
    "import numpy as np\n",
    "import pandas as pd\n"
   ]
  },
  {
   "cell_type": "markdown",
   "metadata": {},
   "source": [
    "# Importação dos dados"
   ]
  },
  {
   "cell_type": "code",
   "execution_count": 60,
   "metadata": {},
   "outputs": [],
   "source": [
    "data = pd.read_csv('b2w.csv')"
   ]
  },
  {
   "cell_type": "markdown",
   "metadata": {},
   "source": [
    "# Análise exploratória"
   ]
  },
  {
   "cell_type": "code",
   "execution_count": 61,
   "metadata": {},
   "outputs": [
    {
     "data": {
      "text/html": [
       "<div>\n",
       "<style scoped>\n",
       "    .dataframe tbody tr th:only-of-type {\n",
       "        vertical-align: middle;\n",
       "    }\n",
       "\n",
       "    .dataframe tbody tr th {\n",
       "        vertical-align: top;\n",
       "    }\n",
       "\n",
       "    .dataframe thead th {\n",
       "        text-align: right;\n",
       "    }\n",
       "</style>\n",
       "<table border=\"1\" class=\"dataframe\">\n",
       "  <thead>\n",
       "    <tr style=\"text-align: right;\">\n",
       "      <th></th>\n",
       "      <th>original_index</th>\n",
       "      <th>review_text</th>\n",
       "      <th>review_text_processed</th>\n",
       "      <th>review_text_tokenized</th>\n",
       "      <th>polarity</th>\n",
       "      <th>rating</th>\n",
       "      <th>kfold_polarity</th>\n",
       "      <th>kfold_rating</th>\n",
       "    </tr>\n",
       "  </thead>\n",
       "  <tbody>\n",
       "    <tr>\n",
       "      <th>0</th>\n",
       "      <td>11955</td>\n",
       "      <td>Bem macio e felpudo...recomendo.  Preço imbatí...</td>\n",
       "      <td>bem macio e felpudo...recomendo.  preco imbati...</td>\n",
       "      <td>['bem', 'macio', 'felpudo', 'recomendo', 'prec...</td>\n",
       "      <td>1.0</td>\n",
       "      <td>4</td>\n",
       "      <td>1</td>\n",
       "      <td>1</td>\n",
       "    </tr>\n",
       "    <tr>\n",
       "      <th>1</th>\n",
       "      <td>35478</td>\n",
       "      <td>Produto excepcional!  recomendo!!! inovador e ...</td>\n",
       "      <td>produto excepcional!  recomendo!!! inovador e ...</td>\n",
       "      <td>['produto', 'excepcional', 'recomendo', 'inova...</td>\n",
       "      <td>1.0</td>\n",
       "      <td>5</td>\n",
       "      <td>1</td>\n",
       "      <td>1</td>\n",
       "    </tr>\n",
       "    <tr>\n",
       "      <th>2</th>\n",
       "      <td>122760</td>\n",
       "      <td>recebi o produto antes do prazo mas veio com d...</td>\n",
       "      <td>recebi o produto antes do prazo mas veio com d...</td>\n",
       "      <td>['recebi', 'produto', 'antes', 'do', 'prazo', ...</td>\n",
       "      <td>0.0</td>\n",
       "      <td>1</td>\n",
       "      <td>1</td>\n",
       "      <td>1</td>\n",
       "    </tr>\n",
       "    <tr>\n",
       "      <th>3</th>\n",
       "      <td>17114</td>\n",
       "      <td>Bom custo beneficio. Adequado para pessoas que...</td>\n",
       "      <td>bom custo beneficio. adequado para pessoas que...</td>\n",
       "      <td>['bom', 'custo', 'beneficio', 'adequado', 'par...</td>\n",
       "      <td>1.0</td>\n",
       "      <td>5</td>\n",
       "      <td>1</td>\n",
       "      <td>1</td>\n",
       "    </tr>\n",
       "    <tr>\n",
       "      <th>4</th>\n",
       "      <td>19112</td>\n",
       "      <td>Além de higiênico tem o tamanho ideal. Só falt...</td>\n",
       "      <td>alem de higienico tem o tamanho ideal. so falt...</td>\n",
       "      <td>['alem', 'de', 'higienico', 'tem', 'tamanho', ...</td>\n",
       "      <td>NaN</td>\n",
       "      <td>3</td>\n",
       "      <td>-1</td>\n",
       "      <td>1</td>\n",
       "    </tr>\n",
       "  </tbody>\n",
       "</table>\n",
       "</div>"
      ],
      "text/plain": [
       "   original_index                                        review_text  \\\n",
       "0           11955  Bem macio e felpudo...recomendo.  Preço imbatí...   \n",
       "1           35478  Produto excepcional!  recomendo!!! inovador e ...   \n",
       "2          122760  recebi o produto antes do prazo mas veio com d...   \n",
       "3           17114  Bom custo beneficio. Adequado para pessoas que...   \n",
       "4           19112  Além de higiênico tem o tamanho ideal. Só falt...   \n",
       "\n",
       "                               review_text_processed  \\\n",
       "0  bem macio e felpudo...recomendo.  preco imbati...   \n",
       "1  produto excepcional!  recomendo!!! inovador e ...   \n",
       "2  recebi o produto antes do prazo mas veio com d...   \n",
       "3  bom custo beneficio. adequado para pessoas que...   \n",
       "4  alem de higienico tem o tamanho ideal. so falt...   \n",
       "\n",
       "                               review_text_tokenized  polarity  rating  \\\n",
       "0  ['bem', 'macio', 'felpudo', 'recomendo', 'prec...       1.0       4   \n",
       "1  ['produto', 'excepcional', 'recomendo', 'inova...       1.0       5   \n",
       "2  ['recebi', 'produto', 'antes', 'do', 'prazo', ...       0.0       1   \n",
       "3  ['bom', 'custo', 'beneficio', 'adequado', 'par...       1.0       5   \n",
       "4  ['alem', 'de', 'higienico', 'tem', 'tamanho', ...       NaN       3   \n",
       "\n",
       "   kfold_polarity  kfold_rating  \n",
       "0               1             1  \n",
       "1               1             1  \n",
       "2               1             1  \n",
       "3               1             1  \n",
       "4              -1             1  "
      ]
     },
     "execution_count": 61,
     "metadata": {},
     "output_type": "execute_result"
    }
   ],
   "source": [
    "data.head()"
   ]
  },
  {
   "cell_type": "code",
   "execution_count": 62,
   "metadata": {},
   "outputs": [
    {
     "name": "stdout",
     "output_type": "stream",
     "text": [
      "(132373, 8)\n",
      "Index(['original_index', 'review_text', 'review_text_processed',\n",
      "       'review_text_tokenized', 'polarity', 'rating', 'kfold_polarity',\n",
      "       'kfold_rating'],\n",
      "      dtype='object')\n"
     ]
    }
   ],
   "source": [
    "print(data.shape)\n",
    "print(data.columns)"
   ]
  },
  {
   "cell_type": "code",
   "execution_count": 65,
   "metadata": {},
   "outputs": [
    {
     "data": {
      "text/html": [
       "<div>\n",
       "<style scoped>\n",
       "    .dataframe tbody tr th:only-of-type {\n",
       "        vertical-align: middle;\n",
       "    }\n",
       "\n",
       "    .dataframe tbody tr th {\n",
       "        vertical-align: top;\n",
       "    }\n",
       "\n",
       "    .dataframe thead th {\n",
       "        text-align: right;\n",
       "    }\n",
       "</style>\n",
       "<table border=\"1\" class=\"dataframe\">\n",
       "  <thead>\n",
       "    <tr style=\"text-align: right;\">\n",
       "      <th></th>\n",
       "      <th>original_index</th>\n",
       "      <th>review_text</th>\n",
       "      <th>review_text_processed</th>\n",
       "      <th>review_text_tokenized</th>\n",
       "      <th>polarity</th>\n",
       "      <th>rating</th>\n",
       "      <th>kfold_polarity</th>\n",
       "      <th>kfold_rating</th>\n",
       "    </tr>\n",
       "  </thead>\n",
       "  <tbody>\n",
       "    <tr>\n",
       "      <th>0</th>\n",
       "      <td>11955</td>\n",
       "      <td>Bem macio e felpudo...recomendo.  Preço imbatí...</td>\n",
       "      <td>bem macio e felpudo...recomendo.  preco imbati...</td>\n",
       "      <td>['bem', 'macio', 'felpudo', 'recomendo', 'prec...</td>\n",
       "      <td>1.0</td>\n",
       "      <td>4</td>\n",
       "      <td>1</td>\n",
       "      <td>1</td>\n",
       "    </tr>\n",
       "    <tr>\n",
       "      <th>1</th>\n",
       "      <td>35478</td>\n",
       "      <td>Produto excepcional!  recomendo!!! inovador e ...</td>\n",
       "      <td>produto excepcional!  recomendo!!! inovador e ...</td>\n",
       "      <td>['produto', 'excepcional', 'recomendo', 'inova...</td>\n",
       "      <td>1.0</td>\n",
       "      <td>5</td>\n",
       "      <td>1</td>\n",
       "      <td>1</td>\n",
       "    </tr>\n",
       "    <tr>\n",
       "      <th>2</th>\n",
       "      <td>122760</td>\n",
       "      <td>recebi o produto antes do prazo mas veio com d...</td>\n",
       "      <td>recebi o produto antes do prazo mas veio com d...</td>\n",
       "      <td>['recebi', 'produto', 'antes', 'do', 'prazo', ...</td>\n",
       "      <td>0.0</td>\n",
       "      <td>1</td>\n",
       "      <td>1</td>\n",
       "      <td>1</td>\n",
       "    </tr>\n",
       "    <tr>\n",
       "      <th>3</th>\n",
       "      <td>17114</td>\n",
       "      <td>Bom custo beneficio. Adequado para pessoas que...</td>\n",
       "      <td>bom custo beneficio. adequado para pessoas que...</td>\n",
       "      <td>['bom', 'custo', 'beneficio', 'adequado', 'par...</td>\n",
       "      <td>1.0</td>\n",
       "      <td>5</td>\n",
       "      <td>1</td>\n",
       "      <td>1</td>\n",
       "    </tr>\n",
       "    <tr>\n",
       "      <th>5</th>\n",
       "      <td>129809</td>\n",
       "      <td>ótmo produto atendeu as expectativas, a entreg...</td>\n",
       "      <td>otmo produto atendeu as expectativas, a entreg...</td>\n",
       "      <td>['otmo', 'produto', 'atendeu', 'as', 'expectat...</td>\n",
       "      <td>1.0</td>\n",
       "      <td>4</td>\n",
       "      <td>1</td>\n",
       "      <td>1</td>\n",
       "    </tr>\n",
       "    <tr>\n",
       "      <th>...</th>\n",
       "      <td>...</td>\n",
       "      <td>...</td>\n",
       "      <td>...</td>\n",
       "      <td>...</td>\n",
       "      <td>...</td>\n",
       "      <td>...</td>\n",
       "      <td>...</td>\n",
       "      <td>...</td>\n",
       "    </tr>\n",
       "    <tr>\n",
       "      <th>132367</th>\n",
       "      <td>122579</td>\n",
       "      <td>Ótimo jogo, um dos melhores que joguei. Entreg...</td>\n",
       "      <td>otimo jogo, um dos melhores que joguei. entreg...</td>\n",
       "      <td>['otimo', 'jogo', 'um', 'dos', 'melhores', 'qu...</td>\n",
       "      <td>1.0</td>\n",
       "      <td>5</td>\n",
       "      <td>10</td>\n",
       "      <td>10</td>\n",
       "    </tr>\n",
       "    <tr>\n",
       "      <th>132368</th>\n",
       "      <td>41993</td>\n",
       "      <td>SMARTHPHONE  PERFEITO  MUITO  BOM  E  A  ECONO...</td>\n",
       "      <td>smarthphone  perfeito  muito  bom  e  a  econo...</td>\n",
       "      <td>['smarthphone', 'perfeito', 'muito', 'bom', 'e...</td>\n",
       "      <td>1.0</td>\n",
       "      <td>5</td>\n",
       "      <td>10</td>\n",
       "      <td>10</td>\n",
       "    </tr>\n",
       "    <tr>\n",
       "      <th>132369</th>\n",
       "      <td>97639</td>\n",
       "      <td>Eu estou muito chateado com isso gostaria que ...</td>\n",
       "      <td>eu estou muito chateado com isso gostaria que ...</td>\n",
       "      <td>['eu', 'estou', 'muito', 'chateado', 'com', 'i...</td>\n",
       "      <td>0.0</td>\n",
       "      <td>1</td>\n",
       "      <td>10</td>\n",
       "      <td>10</td>\n",
       "    </tr>\n",
       "    <tr>\n",
       "      <th>132371</th>\n",
       "      <td>117952</td>\n",
       "      <td>O produto anunciado no site dizia ser  100% al...</td>\n",
       "      <td>o produto anunciado no site dizia ser  100% al...</td>\n",
       "      <td>['produto', 'anunciado', 'no', 'site', 'dizia'...</td>\n",
       "      <td>0.0</td>\n",
       "      <td>1</td>\n",
       "      <td>10</td>\n",
       "      <td>10</td>\n",
       "    </tr>\n",
       "    <tr>\n",
       "      <th>132372</th>\n",
       "      <td>43567</td>\n",
       "      <td>Não recebi o produto e consta como entregue no...</td>\n",
       "      <td>nao recebi o produto e consta como entregue no...</td>\n",
       "      <td>['nao', 'recebi', 'produto', 'consta', 'como',...</td>\n",
       "      <td>0.0</td>\n",
       "      <td>1</td>\n",
       "      <td>10</td>\n",
       "      <td>10</td>\n",
       "    </tr>\n",
       "  </tbody>\n",
       "</table>\n",
       "<p>116058 rows × 8 columns</p>\n",
       "</div>"
      ],
      "text/plain": [
       "        original_index                                        review_text  \\\n",
       "0                11955  Bem macio e felpudo...recomendo.  Preço imbatí...   \n",
       "1                35478  Produto excepcional!  recomendo!!! inovador e ...   \n",
       "2               122760  recebi o produto antes do prazo mas veio com d...   \n",
       "3                17114  Bom custo beneficio. Adequado para pessoas que...   \n",
       "5               129809  ótmo produto atendeu as expectativas, a entreg...   \n",
       "...                ...                                                ...   \n",
       "132367          122579  Ótimo jogo, um dos melhores que joguei. Entreg...   \n",
       "132368           41993  SMARTHPHONE  PERFEITO  MUITO  BOM  E  A  ECONO...   \n",
       "132369           97639  Eu estou muito chateado com isso gostaria que ...   \n",
       "132371          117952  O produto anunciado no site dizia ser  100% al...   \n",
       "132372           43567  Não recebi o produto e consta como entregue no...   \n",
       "\n",
       "                                    review_text_processed  \\\n",
       "0       bem macio e felpudo...recomendo.  preco imbati...   \n",
       "1       produto excepcional!  recomendo!!! inovador e ...   \n",
       "2       recebi o produto antes do prazo mas veio com d...   \n",
       "3       bom custo beneficio. adequado para pessoas que...   \n",
       "5       otmo produto atendeu as expectativas, a entreg...   \n",
       "...                                                   ...   \n",
       "132367  otimo jogo, um dos melhores que joguei. entreg...   \n",
       "132368  smarthphone  perfeito  muito  bom  e  a  econo...   \n",
       "132369  eu estou muito chateado com isso gostaria que ...   \n",
       "132371  o produto anunciado no site dizia ser  100% al...   \n",
       "132372  nao recebi o produto e consta como entregue no...   \n",
       "\n",
       "                                    review_text_tokenized  polarity  rating  \\\n",
       "0       ['bem', 'macio', 'felpudo', 'recomendo', 'prec...       1.0       4   \n",
       "1       ['produto', 'excepcional', 'recomendo', 'inova...       1.0       5   \n",
       "2       ['recebi', 'produto', 'antes', 'do', 'prazo', ...       0.0       1   \n",
       "3       ['bom', 'custo', 'beneficio', 'adequado', 'par...       1.0       5   \n",
       "5       ['otmo', 'produto', 'atendeu', 'as', 'expectat...       1.0       4   \n",
       "...                                                   ...       ...     ...   \n",
       "132367  ['otimo', 'jogo', 'um', 'dos', 'melhores', 'qu...       1.0       5   \n",
       "132368  ['smarthphone', 'perfeito', 'muito', 'bom', 'e...       1.0       5   \n",
       "132369  ['eu', 'estou', 'muito', 'chateado', 'com', 'i...       0.0       1   \n",
       "132371  ['produto', 'anunciado', 'no', 'site', 'dizia'...       0.0       1   \n",
       "132372  ['nao', 'recebi', 'produto', 'consta', 'como',...       0.0       1   \n",
       "\n",
       "        kfold_polarity  kfold_rating  \n",
       "0                    1             1  \n",
       "1                    1             1  \n",
       "2                    1             1  \n",
       "3                    1             1  \n",
       "5                    1             1  \n",
       "...                ...           ...  \n",
       "132367              10            10  \n",
       "132368              10            10  \n",
       "132369              10            10  \n",
       "132371              10            10  \n",
       "132372              10            10  \n",
       "\n",
       "[116058 rows x 8 columns]"
      ]
     },
     "execution_count": 65,
     "metadata": {},
     "output_type": "execute_result"
    }
   ],
   "source": [
    "data = data.dropna()\n",
    "data"
   ]
  },
  {
   "cell_type": "code",
   "execution_count": 67,
   "metadata": {},
   "outputs": [
    {
     "data": {
      "text/plain": [
       "1.0    0.691895\n",
       "0.0    0.308105\n",
       "Name: polarity, dtype: float64"
      ]
     },
     "execution_count": 67,
     "metadata": {},
     "output_type": "execute_result"
    }
   ],
   "source": [
    "data['polarity'].value_counts() / len(data)"
   ]
  },
  {
   "cell_type": "markdown",
   "metadata": {},
   "source": [
    "# Pré-processamento dos dados"
   ]
  },
  {
   "cell_type": "code",
   "execution_count": 68,
   "metadata": {},
   "outputs": [],
   "source": [
    "raw_data = data[['review_text_processed', 'polarity']]"
   ]
  },
  {
   "cell_type": "code",
   "execution_count": 69,
   "metadata": {},
   "outputs": [
    {
     "data": {
      "text/plain": [
       "['bem macio e felpudo...recomendo.  preco imbativel e entrega rapida. compraria outro quando precisar',\n",
       " 'produto excepcional!  recomendo!!! inovador e gostoso de ler!!',\n",
       " 'recebi o produto antes do prazo mas veio com defeito na trava ou seja nao da para usar e ate agora a americanas nao resolveu e preciso muito deste produto',\n",
       " 'bom custo beneficio. adequado para pessoas que fazem um uso casual do aparelho . a maquina fotografica e excelente . a tela fornece imagens otimas . os recursos do aparelho sao faceis de manejar.',\n",
       " 'otmo produto atendeu as expectativas, a entrega ocorreu antes do previsto. muito bom']"
      ]
     },
     "execution_count": 69,
     "metadata": {},
     "output_type": "execute_result"
    }
   ],
   "source": [
    "temp = []\n",
    "\n",
    "# Passando de pd.Series para list\n",
    "data_to_list = data['review_text_processed'].values.tolist()\n",
    "for i in range(len(data_to_list)):\n",
    "  temp.append(data_to_list[i])\n",
    "\n",
    "list(temp[:5])"
   ]
  },
  {
   "cell_type": "code",
   "execution_count": 70,
   "metadata": {},
   "outputs": [
    {
     "name": "stdout",
     "output_type": "stream",
     "text": [
      "[['bem', 'macio', 'felpudo', 'recomendo', 'preco', 'imbativel', 'entrega', 'rapida', 'compraria', 'outro', 'quando', 'precisar'], ['produto', 'excepcional', 'recomendo', 'inovador', 'gostoso', 'de', 'ler'], ['recebi', 'produto', 'antes', 'do', 'prazo', 'mas', 'veio', 'com', 'defeito', 'na', 'trava', 'ou', 'seja', 'nao', 'da', 'para', 'usar', 'ate', 'agora', 'americanas', 'nao', 'resolveu', 'preciso', 'muito', 'deste', 'produto'], ['bom', 'custo', 'beneficio', 'adequado', 'para', 'pessoas', 'que', 'fazem', 'um', 'uso', 'casual', 'do', 'aparelho', 'maquina', 'fotografica', 'excelente', 'tela', 'fornece', 'imagens', 'otimas', 'os', 'recursos', 'do', 'aparelho', 'sao', 'faceis', 'de', 'manejar'], ['otmo', 'produto', 'atendeu', 'as', 'expectativas', 'entrega', 'ocorreu', 'antes', 'do', 'previsto', 'muito', 'bom'], ['gostei', 'muito', 'do', 'produto', 'tem', 'otima', 'qualidade', 'facilita', 'muito', 'aplicacao', 'do', 'gel'], ['adorei', 'entrega', 'no', 'prazo', 'produto', 'conforme', 'eu', 'esperava'], ['ja', 'segundo', 'processador', 'deste', 'modelo', 'que', 'compro', 'primeiro', 'foi', 'para', 'minha', 'mae', 'so', 'tenho', 'elogios', 'muito', 'forte', 'facilita', 'bastante', 'os', 'processos'], ['nao', 'recebi', 'endereco', 'para', 'entrega', 'rua', 'augusto', 'hog', 'casa', 'jardim', 'presidente', 'dutra', 'guarulhos', 'sp', 'cep', 'favor', 'enviar'], ['nao', 'compra', 'este', 'produto', 'pois', 'mesmo', 'veio', 'com', 'os', 'botoes', 'travados', 'ao', 'tentar', 'ligar', 'mesmo', 'nem', 'ligou', 'pessima', 'qualidade']]\n"
     ]
    }
   ],
   "source": [
    "def sent_to_words(sentences):\n",
    "  for sentence in sentences:\n",
    "    yield(gensim.utils.simple_preprocess(str(sentence), deacc=True))  # deacc=True remove pontuações\n",
    "\n",
    "data_words = list(sent_to_words(temp))\n",
    "\n",
    "print(data_words[:10])"
   ]
  },
  {
   "cell_type": "code",
   "execution_count": 71,
   "metadata": {},
   "outputs": [
    {
     "data": {
      "text/plain": [
       "116058"
      ]
     },
     "execution_count": 71,
     "metadata": {},
     "output_type": "execute_result"
    }
   ],
   "source": [
    "len(data_words)"
   ]
  },
  {
   "cell_type": "code",
   "execution_count": 72,
   "metadata": {},
   "outputs": [],
   "source": [
    "def detokenize(text):\n",
    "  return TreebankWordDetokenizer().detokenize(text)"
   ]
  },
  {
   "cell_type": "code",
   "execution_count": 73,
   "metadata": {},
   "outputs": [
    {
     "name": "stdout",
     "output_type": "stream",
     "text": [
      "['bem macio felpudo recomendo preco imbativel entrega rapida compraria outro quando precisar', 'produto excepcional recomendo inovador gostoso de ler', 'recebi produto antes do prazo mas veio com defeito na trava ou seja nao da para usar ate agora americanas nao resolveu preciso muito deste produto', 'bom custo beneficio adequado para pessoas que fazem um uso casual do aparelho maquina fotografica excelente tela fornece imagens otimas os recursos do aparelho sao faceis de manejar', 'otmo produto atendeu as expectativas entrega ocorreu antes do previsto muito bom']\n"
     ]
    }
   ],
   "source": [
    "data = []\n",
    "for i in range(len(data_words)):\n",
    "  data.append(detokenize(data_words[i]))\n",
    "\n",
    "print(data[:5])"
   ]
  },
  {
   "cell_type": "code",
   "execution_count": 74,
   "metadata": {},
   "outputs": [],
   "source": [
    "data = np.array(data)"
   ]
  },
  {
   "cell_type": "markdown",
   "metadata": {},
   "source": [
    "# Label encoding*"
   ]
  },
  {
   "cell_type": "code",
   "execution_count": 93,
   "metadata": {},
   "outputs": [
    {
     "name": "stdout",
     "output_type": "stream",
     "text": [
      "[1. 1. 0. ... 0. 0. 0.]\n",
      "116058\n"
     ]
    }
   ],
   "source": [
    "labels = np.array(raw_data['polarity'])\n",
    "print(labels)\n",
    "print(len(labels))"
   ]
  },
  {
   "cell_type": "markdown",
   "metadata": {},
   "source": [
    "# Tokenização e divisão dos dados"
   ]
  },
  {
   "cell_type": "code",
   "execution_count": 94,
   "metadata": {},
   "outputs": [
    {
     "name": "stdout",
     "output_type": "stream",
     "text": [
      "[[   0    0    0 ...  119   88 1104]\n",
      " [   0    0    0 ... 1773    1  858]\n",
      " [   0    0    0 ...    5  438    2]\n",
      " ...\n",
      " [   0    0    0 ...  569   21  307]\n",
      " [   0    0    0 ...  145   65 1750]\n",
      " [   0    0    0 ...    1    4 2124]]\n"
     ]
    }
   ],
   "source": [
    "from keras.models import Sequential\n",
    "from keras import layers\n",
    "from keras.optimizers import RMSprop,Adam\n",
    "from keras.preprocessing.text import Tokenizer\n",
    "from keras.utils import pad_sequences\n",
    "from keras import regularizers\n",
    "from keras import backend as K\n",
    "from keras.callbacks import ModelCheckpoint\n",
    "max_words = 5000\n",
    "max_len = 200\n",
    "\n",
    "tokenizer = Tokenizer(num_words = max_words)\n",
    "tokenizer.fit_on_texts(data)\n",
    "sequences = tokenizer.texts_to_sequences(data)\n",
    "reviews = pad_sequences(sequences, maxlen = max_len)\n",
    "print(reviews)"
   ]
  },
  {
   "cell_type": "code",
   "execution_count": 95,
   "metadata": {},
   "outputs": [
    {
     "name": "stdout",
     "output_type": "stream",
     "text": [
      "[1. 1. 0. ... 0. 0. 0.]\n"
     ]
    }
   ],
   "source": [
    "print(labels)"
   ]
  },
  {
   "cell_type": "code",
   "execution_count": 96,
   "metadata": {},
   "outputs": [
    {
     "name": "stdout",
     "output_type": "stream",
     "text": [
      "87043 29015 87043 29015\n"
     ]
    }
   ],
   "source": [
    "X_train, X_test, y_train, y_test = train_test_split(reviews, labels, random_state=0, stratify = labels)\n",
    "print (len(X_train),len(X_test),len(y_train),len(y_test))"
   ]
  },
  {
   "cell_type": "markdown",
   "metadata": {},
   "source": [
    "# Construção do modelo de rede neural"
   ]
  },
  {
   "cell_type": "code",
   "execution_count": 101,
   "metadata": {},
   "outputs": [
    {
     "name": "stdout",
     "output_type": "stream",
     "text": [
      "WARNING:tensorflow:`period` argument is deprecated. Please use `save_freq` to specify the frequency in number of batches seen.\n",
      "Epoch 1/70\n",
      "2721/2721 [==============================] - ETA: 0s - loss: 0.2143 - accuracy: 0.9150\n",
      "Epoch 1: val_accuracy improved from -inf to 0.93858, saving model to best_model1.hdf5\n",
      "2721/2721 [==============================] - 163s 59ms/step - loss: 0.2143 - accuracy: 0.9150 - val_loss: 0.1647 - val_accuracy: 0.9386\n",
      "Epoch 2/70\n",
      "2720/2721 [============================>.] - ETA: 0s - loss: 0.1591 - accuracy: 0.9405\n",
      "Epoch 2: val_accuracy improved from 0.93858 to 0.94282, saving model to best_model1.hdf5\n",
      "2721/2721 [==============================] - 170s 63ms/step - loss: 0.1591 - accuracy: 0.9405 - val_loss: 0.1546 - val_accuracy: 0.9428\n"
     ]
    }
   ],
   "source": [
    "callback = tf.keras.callbacks.EarlyStopping(monitor='val_accuracy', patience=0, baseline = 0.95)\n",
    "\n",
    "model1 = Sequential()\n",
    "model1.add(layers.Embedding(max_words, 20))\n",
    "model1.add(layers.LSTM(15, dropout = 0.5))\n",
    "model1.add(layers.Dense(1, activation = 'sigmoid'))\n",
    "\n",
    "model1.compile(optimizer='rmsprop',loss='binary_crossentropy', metrics=['accuracy'])\n",
    "\n",
    "#Implementing model checkpoins to save the best metric and do not lose it on training.\n",
    "checkpoint1 = ModelCheckpoint(\"best_model1.hdf5\", monitor='val_accuracy', verbose=1,save_best_only=True, mode='auto', period=1,save_weights_only=False)\n",
    "history = model1.fit(X_train, y_train, epochs=70,validation_data=(X_test, y_test),callbacks=[checkpoint1, callback])"
   ]
  },
  {
   "cell_type": "code",
   "execution_count": 103,
   "metadata": {},
   "outputs": [
    {
     "name": "stdout",
     "output_type": "stream",
     "text": [
      "907/907 - 11s - loss: 0.1546 - accuracy: 0.9428 - 11s/epoch - 12ms/step\n",
      "Model accuracy:  0.9428226947784424\n"
     ]
    }
   ],
   "source": [
    "test_loss, test_acc = model1.evaluate(X_test, y_test, verbose = 2)\n",
    "print('Model accuracy: ', test_acc)"
   ]
  },
  {
   "cell_type": "code",
   "execution_count": 104,
   "metadata": {},
   "outputs": [
    {
     "name": "stdout",
     "output_type": "stream",
     "text": [
      "907/907 [==============================] - 12s 13ms/step\n"
     ]
    }
   ],
   "source": [
    "predictions = model1.predict(X_test)"
   ]
  },
  {
   "cell_type": "code",
   "execution_count": 113,
   "metadata": {},
   "outputs": [
    {
     "data": {
      "text/plain": [
       "array([[0.9909394 ],\n",
       "       [0.9973537 ],\n",
       "       [0.99932796],\n",
       "       ...,\n",
       "       [0.01157255],\n",
       "       [0.98761195],\n",
       "       [0.23621121]], dtype=float32)"
      ]
     },
     "execution_count": 113,
     "metadata": {},
     "output_type": "execute_result"
    }
   ],
   "source": [
    "predictions"
   ]
  },
  {
   "cell_type": "markdown",
   "metadata": {},
   "source": [
    "# Matriz de confusão"
   ]
  },
  {
   "cell_type": "code",
   "execution_count": 119,
   "metadata": {},
   "outputs": [
    {
     "data": {
      "text/plain": [
       "<AxesSubplot: >"
      ]
     },
     "execution_count": 119,
     "metadata": {},
     "output_type": "execute_result"
    },
    {
     "data": {
      "image/png": "[encoded data removed]",
      "text/plain": [
       "<Figure size 300x300 with 2 Axes>"
      ]
     },
     "metadata": {},
     "output_type": "display_data"
    }
   ],
   "source": [
    "from sklearn.metrics import confusion_matrix\n",
    "matrix = confusion_matrix(y_test, np.around(predictions))\n",
    "\n",
    "import seaborn as sns\n",
    "\n",
    "conf_matrix = conf_matrix = pd.DataFrame(matrix)\n",
    "conf_matrix = conf_matrix.astype('float') / conf_matrix.sum(axis=1)[:, np.newaxis]\n",
    "plt.figure(figsize = (3, 3))\n",
    "sns.heatmap(conf_matrix, annot=True, annot_kws={\"size\": 15})"
   ]
  }
 ],
 "metadata": {
  "kernelspec": {
   "display_name": "Python 3.10.8 ('.venv': venv)",
   "language": "python",
   "name": "python3"
  },
  "language_info": {
   "codemirror_mode": {
    "name": "ipython",
    "version": 3
   },
   "file_extension": ".py",
   "mimetype": "text/x-python",
   "name": "python",
   "nbconvert_exporter": "python",
   "pygments_lexer": "ipython3",
   "version": "3.10.8"
  },
  "orig_nbformat": 4,
  "vscode": {
   "interpreter": {
    "hash": "927d2b81fc2c5f2fdfcb09305a655246cc9b4edea78ca9923ea6f40443173652"
   }
  }
 },
 "nbformat": 4,
 "nbformat_minor": 2
}
